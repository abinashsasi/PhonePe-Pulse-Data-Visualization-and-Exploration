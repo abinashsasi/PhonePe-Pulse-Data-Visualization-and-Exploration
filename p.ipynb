{
 "cells": [
  {
   "cell_type": "code",
   "execution_count": 1,
   "metadata": {},
   "outputs": [],
   "source": [
    "import os\n",
    "import json\n",
    "import pandas as pd\n",
    "import mysql\n",
    "import mysql.connector"
   ]
  },
  {
   "cell_type": "markdown",
   "metadata": {},
   "source": [
    "1.DataFrame of aggregated Insurance"
   ]
  },
  {
   "cell_type": "code",
   "execution_count": 2,
   "metadata": {},
   "outputs": [],
   "source": [
    "#aggre_Trans\n",
    "path1=\"C:/Users/abina/OneDrive/Desktop/phonepe/pulse/data/aggregated/insurance/country/india/state/\"\n",
    "agg_state_list= os.listdir(path1)\n",
    "\n",
    "agg_insur ={\"State\":[], \"Years\":[], \"Quarter\":[], \"Transaction_type\":[], \"Transaction_count\":[],\"Transaction_amount\":[] }\n",
    "\n",
    "\n",
    "for state in agg_state_list:\n",
    "    current_states=path1 + state + \"/\"\n",
    "    agg_year_list=os.listdir(current_states)\n",
    "    \n",
    "    for year in agg_year_list:\n",
    "        current_year=current_states + year + \"/\"\n",
    "        agg_file_list=os.listdir(current_year)\n",
    "\n",
    "        for file in agg_file_list:\n",
    "            current_file=current_year + file\n",
    "            data=open(current_file , 'r')\n",
    "            A=json.load(data)\n",
    "\n",
    "            for i in  A[\"data\"][\"transactionData\"]:\n",
    "                trans_type=i[\"name\"]\n",
    "                trans_count=i['paymentInstruments'][0]['count']\n",
    "                trans_amount=i['paymentInstruments'][0]['amount']\n",
    "\n",
    "                agg_insur[\"Transaction_type\"].append(trans_type)\n",
    "                agg_insur[\"Transaction_count\"].append(trans_count)\n",
    "                agg_insur[\"Transaction_amount\"].append(trans_amount)\n",
    "                agg_insur[\"State\"].append(state)\n",
    "                agg_insur[\"Years\"].append(year)\n",
    "                agg_insur[\"Quarter\"].append(int(file.strip(\".json\")))\n",
    "\n",
    "df_agg_insur=pd.DataFrame(agg_insur)"
   ]
  },
  {
   "cell_type": "markdown",
   "metadata": {},
   "source": [
    "2.DataFrame of aggregated Transation"
   ]
  },
  {
   "cell_type": "code",
   "execution_count": 4,
   "metadata": {},
   "outputs": [],
   "source": [
    "#aggre_Trans\n",
    "path2=\"C:/Users/abina/OneDrive/Desktop/phonepe/pulse/data/aggregated/transaction/country/india/state/\"\n",
    "agg_state_list= os.listdir(path2)\n",
    "\n",
    "agg_trans ={\"State\":[], \"Years\":[], \"Quarter\":[], \"Transaction_type\":[], \"Transaction_count\":[],\"Transaction_amount\":[] }\n",
    "\n",
    "\n",
    "for state in agg_state_list:\n",
    "    current_states=path2 + state + \"/\"\n",
    "    agg_year_list=os.listdir(current_states)\n",
    "    \n",
    "    for year in agg_year_list:\n",
    "        current_year=current_states + year + \"/\"\n",
    "        agg_file_list=os.listdir(current_year)\n",
    "\n",
    "        for file in agg_file_list:\n",
    "            current_file=current_year + file\n",
    "            data=open(current_file , 'r')\n",
    "            B=json.load(data)\n",
    "\n",
    "            for i in  B[\"data\"][\"transactionData\"]:\n",
    "                trans_type=i[\"name\"]\n",
    "                trans_count=i['paymentInstruments'][0]['count']\n",
    "                trans_amount=i['paymentInstruments'][0]['amount']\n",
    "\n",
    "                agg_trans[\"Transaction_type\"].append(trans_type)\n",
    "                agg_trans[\"Transaction_count\"].append(trans_count)\n",
    "                agg_trans[\"Transaction_amount\"].append(trans_amount)\n",
    "                agg_trans[\"State\"].append(state)\n",
    "                agg_trans[\"Years\"].append(year)\n",
    "                agg_trans[\"Quarter\"].append(int(file.strip(\".json\")))\n",
    "\n",
    "df_agg_trans=pd.DataFrame(agg_trans)"
   ]
  },
  {
   "cell_type": "markdown",
   "metadata": {},
   "source": [
    "3.Dataframe of aggregated user"
   ]
  },
  {
   "cell_type": "code",
   "execution_count": 5,
   "metadata": {},
   "outputs": [],
   "source": [
    "#aggre_user\n",
    "path3=\"C:/Users/abina/OneDrive/Desktop/phonepE/pulse/data/aggregated/user/country/india/state/\"\n",
    "agg_state_list= os.listdir(path3)\n",
    "\n",
    "agg_user = {\"State\":[], \"Years\":[], \"Quarter\":[], \"Brands\":[],\"Transaction_count\":[], \"Percentage\":[]}\n",
    "\n",
    "\n",
    "for state in agg_state_list:\n",
    "    current_states=path3 + state + \"/\"\n",
    "    agg_year_list=os.listdir(current_states)\n",
    "    \n",
    "    for year in agg_year_list:\n",
    "        current_year=current_states + year + \"/\"\n",
    "        agg_file_list=os.listdir(current_year)\n",
    "\n",
    "        for file in agg_file_list:\n",
    "            current_file=current_year + file\n",
    "            data=open(current_file , 'r')\n",
    "            C=json.load(data)\n",
    "            \n",
    "            try:\n",
    "                for i in  C[\"data\"][\"usersByDevice\"]:\n",
    "                    brand=i[\"brand\"]\n",
    "                    count=i['count']\n",
    "                    percent=i['percentage']\n",
    "                    \n",
    "                    agg_user[\"Brands\"].append(brand)\n",
    "                    agg_user[\"Transaction_count\"].append(count)\n",
    "                    agg_user[\"Percentage\"].append(percent)\n",
    "                    agg_user[\"State\"].append(state)\n",
    "                    agg_user[\"Years\"].append(year)\n",
    "                    agg_user[\"Quarter\"].append(int(file.strip(\".json\")))\n",
    "            except:\n",
    "                pass\n",
    "df_agg_user=pd.DataFrame(agg_user)"
   ]
  },
  {
   "cell_type": "markdown",
   "metadata": {},
   "source": [
    "4.Dataframe of map Insurance"
   ]
  },
  {
   "cell_type": "code",
   "execution_count": 6,
   "metadata": {},
   "outputs": [],
   "source": [
    "#map_insur\n",
    "path4=\"C:/Users/abina/OneDrive/Desktop/phonepe/pulse/data/map/insurance/hover/country/india/state/\"\n",
    "map_state_list= os.listdir(path4)\n",
    "#print(agg_state_list)\n",
    "map_insur = {\"State\":[], \"Years\":[], \"Quarter\":[],\"District\":[], \"Transaction_count\":[],\"Transaction_amount\":[]}\n",
    "\n",
    "\n",
    "for state in map_state_list:\n",
    "    current_states=path4 + state + \"/\"\n",
    "    map_year_list=os.listdir(current_states)\n",
    "    #print(agg_year_list)\n",
    "    for year in map_year_list:\n",
    "        current_year=current_states + year + \"/\"\n",
    "        #print(current_year)\n",
    "        map_file_list=os.listdir(current_year)\n",
    "\n",
    "        for file in map_file_list:\n",
    "            current_file=current_year + file\n",
    "            data=open(current_file , 'r')\n",
    "            D=json.load(data)\n",
    "            \n",
    "            for i in  D[\"data\"][\"hoverDataList\"]:\n",
    "                    district=i[\"name\"]\n",
    "                    count=i[\"metric\"][0]['count']\n",
    "                    trans_amount=i[\"metric\"][0]['amount']\n",
    "\n",
    "\n",
    "                    map_insur[\"District\"].append(district)\n",
    "                    map_insur[\"Transaction_count\"].append(count)\n",
    "                    map_insur[\"Transaction_amount\"].append(trans_amount)\n",
    "                    map_insur[\"State\"].append(state)\n",
    "                    map_insur[\"Years\"].append(year)\n",
    "                    map_insur[\"Quarter\"].append(int(file.strip(\".json\")))\n",
    "            \n",
    "df_map_insur=pd.DataFrame(map_insur)\n"
   ]
  },
  {
   "cell_type": "markdown",
   "metadata": {},
   "source": [
    "5.Dataframe of map transactions"
   ]
  },
  {
   "cell_type": "code",
   "execution_count": 7,
   "metadata": {},
   "outputs": [],
   "source": [
    "#map_tans\n",
    "path5=\"C:/Users/abina/OneDrive/Desktop/phonepe/pulse/data/map/transaction/hover/country/india/state/\"\n",
    "map_state_list= os.listdir(path5)\n",
    "#print(agg_state_list)\n",
    "map_trans = {\"State\":[], \"Years\":[], \"Quarter\":[],\"District\":[], \"Transaction_count\":[],\"Transaction_amount\":[]}\n",
    "\n",
    "\n",
    "for state in map_state_list:\n",
    "    current_states=path5 + state + \"/\"\n",
    "    map_year_list=os.listdir(current_states)\n",
    "    #print(agg_year_list)\n",
    "    for year in map_year_list:\n",
    "        current_year=current_states + year + \"/\"\n",
    "        #print(current_year)\n",
    "        map_file_list=os.listdir(current_year)\n",
    "\n",
    "        for file in map_file_list:\n",
    "            current_file=current_year + file\n",
    "            data=open(current_file , 'r')\n",
    "            E=json.load(data)\n",
    "            \n",
    "            for i in  E[\"data\"][\"hoverDataList\"]:\n",
    "                    district=i[\"name\"]\n",
    "                    count=i[\"metric\"][0]['count']\n",
    "                    trans_amount=i[\"metric\"][0]['amount']\n",
    "\n",
    "\n",
    "                    map_trans[\"District\"].append(district)\n",
    "                    map_trans[\"Transaction_count\"].append(count)\n",
    "                    map_trans[\"Transaction_amount\"].append(trans_amount)\n",
    "                    map_trans[\"State\"].append(state)\n",
    "                    map_trans[\"Years\"].append(year)\n",
    "                    map_trans[\"Quarter\"].append(int(file.strip(\".json\")))\n",
    "            \n",
    "df_map_trans=pd.DataFrame(map_trans)"
   ]
  },
  {
   "cell_type": "markdown",
   "metadata": {},
   "source": [
    "6.Dataframe of map user"
   ]
  },
  {
   "cell_type": "code",
   "execution_count": 8,
   "metadata": {},
   "outputs": [],
   "source": [
    "#map_user\n",
    "path6=\"C:/Users/abina/OneDrive/Desktop/phonepe/pulse/data/map/user/hover/country/india/state/\"\n",
    "map_state_list= os.listdir(path6)\n",
    "\n",
    "\n",
    "map_user = {\"State\":[], \"Years\":[], \"Quarter\":[], \"District\":[], \"RegisteredUser\":[], \"AppOpens\":[]}\n",
    "\n",
    "for state in map_state_list:\n",
    "    current_states=path6 + state + \"/\"\n",
    "    map_year_list=os.listdir(current_states)\n",
    "    \n",
    "    for year in map_year_list:\n",
    "        current_year=current_states + year + \"/\"\n",
    "        #print(current_year)\n",
    "        map_file_list=os.listdir(current_year)\n",
    "\n",
    "        for file in map_file_list:\n",
    "            current_file=current_year + file\n",
    "            data=open(current_file , 'r')\n",
    "            F=json.load(data)\n",
    "            \n",
    "            for i in  F[\"data\"][\"hoverData\"].items():\n",
    "                    district=i[0]\n",
    "                    regitered_user=i[1][\"registeredUsers\"]\n",
    "                    appopens=i[1][\"appOpens\"]\n",
    "\n",
    "                    map_user[\"District\"].append(district)\n",
    "                    map_user[\"RegisteredUser\"].append(regitered_user)\n",
    "                    map_user[\"AppOpens\"].append(appopens)\n",
    "                    map_user[\"State\"].append(state)\n",
    "                    map_user[\"Years\"].append(year)\n",
    "                    map_user[\"Quarter\"].append(int(file.strip(\".json\")))\n",
    "            \n",
    "df_map_user=pd.DataFrame(map_user)"
   ]
  },
  {
   "cell_type": "markdown",
   "metadata": {},
   "source": [
    "7.TOP INSURANCE DISTRICT VISE"
   ]
  },
  {
   "cell_type": "code",
   "execution_count": 9,
   "metadata": {},
   "outputs": [],
   "source": [
    "#TOP_INSUR_DIST\n",
    "path7=\"C:/Users/abina/OneDrive/Desktop/phonepe/pulse/data/top/insurance/country/india/state/\"\n",
    "top_state_list=os.listdir(path7)\n",
    "#print(top_state_list)\n",
    "\n",
    "top_insur_dist = {'State': [], 'Year': [], 'Quarter': [], 'District': [], 'Transaction_count': [],\n",
    "            'Transaction_amount': []}\n",
    "\n",
    "for state in top_state_list:\n",
    "    current_state= path7 + state +\"/\"\n",
    "    top_year_list= os.listdir(current_state)\n",
    "    #print(top_year_list)\n",
    "\n",
    "    for year in top_year_list:\n",
    "        current_year= current_state + year + \"/\"\n",
    "        top_file_list = os.listdir(current_year)\n",
    "\n",
    "        for file in top_file_list:\n",
    "            current_file=current_year + file\n",
    "            data=open(current_file,'r')\n",
    "            G=json.load(data)\n",
    "\n",
    "            for i in G['data']['districts']:\n",
    "                name = i['entityName']\n",
    "                count = i['metric']['count']\n",
    "                amount = i['metric']['amount']\n",
    "\n",
    "                top_insur_dist['State'].append(state)\n",
    "                top_insur_dist['Year'].append(year)\n",
    "                top_insur_dist['District'].append(name)\n",
    "                top_insur_dist['Transaction_count'].append(count)\n",
    "                top_insur_dist['Transaction_amount'].append(amount)\n",
    "                top_insur_dist['Quarter'].append(int(file.strip('.json')))\n",
    "\n",
    "df_top_insur_dist=  pd.DataFrame(top_insur_dist)"
   ]
  },
  {
   "cell_type": "code",
   "execution_count": 10,
   "metadata": {},
   "outputs": [],
   "source": [
    "\n",
    "#TOP_INSUR_PIN\n",
    "path8=\"C:/Users/abina/OneDrive/Desktop/phonepe/pulse/data/top/insurance/country/india/state/\"\n",
    "top_state_list=os.listdir(path8)\n",
    "#print(top_state_list)\n",
    "\n",
    "top_insur_pin = {'State': [], 'Year': [], 'Quarter': [], 'Pincode': [], 'Transaction_count': [],\n",
    "            'Transaction_amount': []}\n",
    "\n",
    "for state in top_state_list:\n",
    "    current_state= path8 + state +\"/\"\n",
    "    top_year_list= os.listdir(current_state)\n",
    "    #print(top_year_list)\n",
    "\n",
    "    for year in top_year_list:\n",
    "        current_year= current_state + year + \"/\"\n",
    "        top_file_list = os.listdir(current_year)\n",
    "\n",
    "        for file in top_file_list:\n",
    "            current_file=current_year + file\n",
    "            data=open(current_file,'r')\n",
    "            H=json.load(data)\n",
    "\n",
    "            for i in H['data']['pincodes']:\n",
    "                name = i['entityName']\n",
    "                count = i['metric']['count']\n",
    "                amount = i['metric']['amount']\n",
    "\n",
    "                top_insur_pin['State'].append(state)\n",
    "                top_insur_pin['Year'].append(year)\n",
    "                top_insur_pin['Pincode'].append(name)\n",
    "                top_insur_pin['Transaction_count'].append(count)\n",
    "                top_insur_pin['Transaction_amount'].append(amount)\n",
    "                top_insur_pin['Quarter'].append(int(file.strip('.json')))\n",
    "\n",
    "df_top_insur_pin=  pd.DataFrame(top_insur_pin)"
   ]
  },
  {
   "cell_type": "code",
   "execution_count": null,
   "metadata": {},
   "outputs": [],
   "source": []
  },
  {
   "cell_type": "markdown",
   "metadata": {},
   "source": [
    "9.Dataframe of top transactions District-Wise"
   ]
  },
  {
   "cell_type": "code",
   "execution_count": 11,
   "metadata": {},
   "outputs": [],
   "source": [
    "path9=\"C:/Users/abina/OneDrive/Desktop/phonepe/pulse/data/top/transaction/country/india/state/\"\n",
    "top_state_list=os.listdir(path9)\n",
    "#print(top_state_list)\n",
    "\n",
    "top_trans_dist = {'State': [], 'Year': [], 'Quarter': [], 'District': [], 'Transaction_count': [],\n",
    "            'Transaction_amount': []}\n",
    "\n",
    "for state in top_state_list:\n",
    "    current_state= path9 + state +\"/\"\n",
    "    top_year_list= os.listdir(current_state)\n",
    "    #print(top_year_list)\n",
    "\n",
    "    for year in top_year_list:\n",
    "        current_year= current_state + year + \"/\"\n",
    "        top_file_list = os.listdir(current_year)\n",
    "\n",
    "        for file in top_file_list:\n",
    "            current_file=current_year + file\n",
    "            data=open(current_file,'r')\n",
    "            I=json.load(data)\n",
    "\n",
    "            for i in I['data']['districts']:\n",
    "                name = i['entityName']\n",
    "                count = i['metric']['count']\n",
    "                amount = i['metric']['amount']\n",
    "\n",
    "                top_trans_dist['State'].append(state)\n",
    "                top_trans_dist['Year'].append(year)\n",
    "                top_trans_dist['District'].append(name)\n",
    "                top_trans_dist['Transaction_count'].append(count)\n",
    "                top_trans_dist['Transaction_amount'].append(amount)\n",
    "                top_trans_dist['Quarter'].append(int(file.strip('.json')))\n",
    "\n",
    "df_top_trans_dist=  pd.DataFrame(top_trans_dist)"
   ]
  },
  {
   "cell_type": "markdown",
   "metadata": {},
   "source": [
    "10.Top Transaction Pincode-wise"
   ]
  },
  {
   "cell_type": "code",
   "execution_count": 12,
   "metadata": {},
   "outputs": [],
   "source": [
    "path10=\"C:/Users/abina/OneDrive/Desktop/phonepe/pulse/data/top/transaction/country/india/state/\"\n",
    "top_state_list=os.listdir(path10)\n",
    "#print(top_state_list)\n",
    "\n",
    "top_trans_pin = {'State': [], 'Year': [], 'Quarter': [], 'Pincode': [], 'Transaction_count': [],\n",
    "            'Transaction_amount': []}\n",
    "\n",
    "for state in top_state_list:\n",
    "    current_state= path10+ state +\"/\"\n",
    "    top_year_list= os.listdir(current_state)\n",
    "    #print(top_year_list)\n",
    "\n",
    "    for year in top_year_list:\n",
    "        current_year= current_state + year + \"/\"\n",
    "        top_file_list = os.listdir(current_year)\n",
    "\n",
    "        for file in top_file_list:\n",
    "            current_file=current_year + file\n",
    "            data=open(current_file,'r')\n",
    "            J=json.load(data)\n",
    "\n",
    "            for i in J['data']['pincodes']:\n",
    "                name = i['entityName']\n",
    "                count = i['metric']['count']\n",
    "                amount = i['metric']['amount']\n",
    "\n",
    "                top_trans_pin['State'].append(state)\n",
    "                top_trans_pin['Year'].append(year)\n",
    "                top_trans_pin['Pincode'].append(name)\n",
    "                top_trans_pin['Transaction_count'].append(count)\n",
    "                top_trans_pin['Transaction_amount'].append(amount)\n",
    "                top_trans_pin['Quarter'].append(int(file.strip('.json')))\n",
    "\n",
    "df_top_trans_pin=  pd.DataFrame(top_trans_pin)"
   ]
  },
  {
   "cell_type": "markdown",
   "metadata": {},
   "source": [
    "11. Top User District-wise"
   ]
  },
  {
   "cell_type": "code",
   "execution_count": 13,
   "metadata": {},
   "outputs": [],
   "source": [
    "#top_user\n",
    "path11=\"C:/Users/abina/OneDrive/Desktop/phonepe/pulse/data/top/user/country/india/state/\"\n",
    "top_state_list=os.listdir(path11)\n",
    "\n",
    "top_user_dist = {'State': [], 'Year': [], 'Quarter': [], 'District': [],'RegisteredUsers': []}\n",
    "\n",
    "for state in top_state_list:\n",
    "    current_state= path11 + state +\"/\"\n",
    "    top_year_list= os.listdir(current_state)\n",
    "    #print(top_year_list)\n",
    "\n",
    "    for year in top_year_list:\n",
    "        current_year= current_state + year + \"/\"\n",
    "        top_file_list = os.listdir(current_year)\n",
    "\n",
    "        for file in top_file_list:\n",
    "            current_file=current_year + file\n",
    "            data=open(current_file,'r')\n",
    "            K=json.load(data)\n",
    "\n",
    "            for i in K['data']['districts']:\n",
    "                name = i['name']\n",
    "                registeredUsers = i['registeredUsers']\n",
    "\n",
    "                top_user_dist['RegisteredUsers'].append(registeredUsers)\n",
    "                top_user_dist['District'].append(name)\n",
    "                top_user_dist['State'].append(state)\n",
    "                top_user_dist['Year'].append(year)\n",
    "                top_user_dist['Quarter'].append(int(file.strip('.json')))\n",
    "\n",
    "df_top_user_dist=  pd.DataFrame(top_user_dist)"
   ]
  },
  {
   "cell_type": "markdown",
   "metadata": {},
   "source": [
    "12. Top User Pincode-wise"
   ]
  },
  {
   "cell_type": "code",
   "execution_count": 14,
   "metadata": {},
   "outputs": [],
   "source": [
    "#top_user\n",
    "path12=\"C:/Users/abina/OneDrive/Desktop/phonepe/pulse/data/top/user/country/india/state/\"\n",
    "top_state_list=os.listdir(path12)\n",
    "\n",
    "top_user_pin = {'State': [], 'Year': [], 'Quarter': [], 'Pincode': [],'RegisteredUsers': []}\n",
    "\n",
    "for state in top_state_list:\n",
    "    current_state= path12 + state +\"/\"\n",
    "    top_year_list= os.listdir(current_state)\n",
    "    #print(top_year_list)\n",
    "\n",
    "    for year in top_year_list:\n",
    "        current_year= current_state + year + \"/\"\n",
    "        top_file_list = os.listdir(current_year)\n",
    "\n",
    "        for file in top_file_list:\n",
    "            current_file=current_year + file\n",
    "            data=open(current_file,'r')\n",
    "            L=json.load(data)\n",
    "\n",
    "            for i in L['data']['pincodes']:\n",
    "                pincode = i['name']\n",
    "                registeredUsers = i['registeredUsers']\n",
    "\n",
    "                top_user_pin['RegisteredUsers'].append(registeredUsers)\n",
    "                top_user_pin['Pincode'].append(pincode)\n",
    "                top_user_pin['State'].append(state)\n",
    "                top_user_pin['Year'].append(year)\n",
    "                top_user_pin['Quarter'].append(int(file.strip('.json')))\n",
    "\n",
    "df_top_user_pin=  pd.DataFrame(top_user_pin) "
   ]
  },
  {
   "cell_type": "code",
   "execution_count": 15,
   "metadata": {},
   "outputs": [],
   "source": [
    "df_lat_long = pd.read_csv(\"C:/Users/abina/OneDrive/Desktop/phonepe/dist_lat_long.csv\")"
   ]
  },
  {
   "cell_type": "code",
   "execution_count": 16,
   "metadata": {},
   "outputs": [
    {
     "data": {
      "text/plain": [
       "['df_agg_insur',\n",
       " 'df_agg_trans',\n",
       " 'df_agg_user',\n",
       " 'df_map_insur',\n",
       " 'df_map_trans',\n",
       " 'df_map_user',\n",
       " 'df_top_insur_dist',\n",
       " 'df_top_insur_pin',\n",
       " 'df_top_trans_dist',\n",
       " 'df_top_trans_pin',\n",
       " 'df_top_user_dist',\n",
       " 'df_top_user_pin',\n",
       " 'df_lat_long']"
      ]
     },
     "execution_count": 16,
     "metadata": {},
     "output_type": "execute_result"
    }
   ],
   "source": [
    "df_list = [df for df in globals() if isinstance(globals()[df], pd.core.frame.DataFrame) and df.startswith('df_')]\n",
    "\n",
    "df_list"
   ]
  },
  {
   "cell_type": "code",
   "execution_count": 17,
   "metadata": {},
   "outputs": [],
   "source": [
    "# As I noticed few mismatched between dfs loaded from pulse and lat_long_df, doing this.\n",
    "\n",
    "for df in df_list:\n",
    "    df = globals()[df]\n",
    "    if'State' in df.columns:\n",
    "            df[\"State\"] = df[\"State\"].str.replace(\"-\",\" \")\n",
    "            df[\"State\"] = df[\"State\"].str.replace(\"&\",\"And\")\n",
    "            df[\"State\"] = df[\"State\"].str.title()\n",
    "   \n",
    "    if 'District' in df.columns and 'State' in df.columns:\n",
    "            df['District'] =df['District'].str.removesuffix(\" district\")\n",
    "            df['District'] = df['District'].str.title()\n",
    "            delhi_df = df[df['State'] == 'Delhi']\n",
    "            districts_to_suffix = [d for d in delhi_df['District'].unique() if d != 'Shahdara']\n",
    "            df.loc[(df['State'] == 'Delhi') & (df['District'].isin(districts_to_suffix)), 'District'] = df.loc[(df['State'] == 'Delhi') & (df['District'].isin(districts_to_suffix)), 'District'].apply(lambda x: x + ' Delhi' if 'Delhi' not in x else x)\n",
    "       "
   ]
  },
  {
   "cell_type": "code",
   "execution_count": 18,
   "metadata": {},
   "outputs": [],
   "source": [
    "for df_name in df_list:\n",
    "    df = globals()[df_name]\n",
    "    if 'District' in df.columns:\n",
    "        df = pd.merge(df,df_lat_long, on=['State', 'District'], how='left')\n",
    "        globals()[df_name] = df"
   ]
  },
  {
   "cell_type": "code",
   "execution_count": 63,
   "metadata": {},
   "outputs": [
    {
     "data": {
      "text/plain": [
       "\"df_agg_insur.to_csv('agg_insur.csv',index=False)\\ndf_agg_trans.to_csv('agg_trans.csv',index=False)\\ndf_agg_user.to_csv('agg_user.csv',index=False)\\ndf_map_insur.to_csv('map_insur.csv',index=False)\\ndf_map_trans.to_csv('map_trans.csv',index=False)\\ndf_map_user.to_csv('map_user.csv',index=False)\\ndf_top_trans_dist.to_csv('top_trans_dist.csv',index=False)\\ndf_top_trans_pin.to_csv('top_trans_pin.csv',index=False)\\ndf_top_user_dist.to_csv('top_user_dist.csv',index=False)\\ndf_top_user_pin.to_csv('top_user_pin.csv',index=False)\\ndf_top_insur_dist.to_csv('top_insur_dist.csv',index=False)\\ndf_top_insur_pin.to_csv('top_insur_pin.csv',index=False)\""
      ]
     },
     "execution_count": 63,
     "metadata": {},
     "output_type": "execute_result"
    }
   ],
   "source": [
    "df_agg_insur.to_csv('agg_insur.csv',index=False)\n",
    "df_agg_trans.to_csv('agg_trans.csv',index=False)\n",
    "df_agg_user.to_csv('agg_user.csv',index=False)\n",
    "df_map_insur.to_csv('map_insur.csv',index=False)\n",
    "df_map_trans.to_csv('map_trans.csv',index=False)\n",
    "df_map_user.to_csv('map_user.csv',index=False)\n",
    "df_top_trans_dist.to_csv('top_trans_dist.csv',index=False)\n",
    "df_top_trans_pin.to_csv('top_trans_pin.csv',index=False)\n",
    "df_top_user_dist.to_csv('top_user_dist.csv',index=False)\n",
    "df_top_user_pin.to_csv('top_user_pin.csv',index=False)\n",
    "df_top_insur_dist.to_csv('top_insur_dist.csv',index=False)\n",
    "df_top_insur_pin.to_csv('top_insur_pin.csv',index=False)"
   ]
  },
  {
   "cell_type": "markdown",
   "metadata": {},
   "source": [
    "Creating connection with MySQL"
   ]
  },
  {
   "cell_type": "code",
   "execution_count": 19,
   "metadata": {},
   "outputs": [],
   "source": [
    "\n",
    "mysql_connection=mysql.connector.connect(\n",
    "        host=\"localhost\", #127.0.0.1\n",
    "            user=\"root\",\n",
    "            password=\"\",\n",
    "            #database='phonepe_pulse'\n",
    "        )\n",
    "cursor=mysql_connection.cursor()"
   ]
  },
  {
   "cell_type": "code",
   "execution_count": 20,
   "metadata": {},
   "outputs": [],
   "source": [
    "cursor.execute(\"create database if not exists phonepe_pulse\")\n",
    "cursor.execute(\"use phonepe_pulse\")"
   ]
  },
  {
   "cell_type": "code",
   "execution_count": 21,
   "metadata": {},
   "outputs": [],
   "source": [
    "#1.agg_insur\n",
    "cursor.execute('''create table if not exists agg_insur (\n",
    "            State varchar(100),\n",
    "            Year int,\n",
    "            Quarter int,\n",
    "            Transaction_type varchar(100),\n",
    "            Transaction_count int,\n",
    "            Transaction_amount double\n",
    "            )''')\n",
    "for index,row in df_agg_insur.iterrows():\n",
    "    query = \"INSERT INTO agg_insur VALUES (%s,%s,%s,%s,%s,%s)\"\n",
    "    cursor.execute(query, tuple(row))\n",
    "    mysql_connection.commit()"
   ]
  },
  {
   "cell_type": "code",
   "execution_count": 22,
   "metadata": {},
   "outputs": [],
   "source": [
    "#2.agg_trans\n",
    "cursor.execute('''create table if not exists agg_trans (\n",
    "            State varchar(100),\n",
    "            Year int,\n",
    "            Quarter int,\n",
    "            Transaction_type varchar(100),\n",
    "            Transaction_count int,\n",
    "            Transaction_amount double\n",
    "            )''')\n",
    "for index,row in df_agg_trans.iterrows():\n",
    "    query = \"INSERT INTO agg_trans VALUES (%s,%s,%s,%s,%s,%s)\"\n",
    "    cursor.execute(query, tuple(row))\n",
    "    mysql_connection.commit()"
   ]
  },
  {
   "cell_type": "code",
   "execution_count": 23,
   "metadata": {},
   "outputs": [],
   "source": [
    "#3.agg_user\n",
    "cursor.execute('''create table if not exists agg_user (\n",
    "            State varchar(100),\n",
    "            Year int,\n",
    "            Quarter int,\n",
    "            Brands varchar(100),\n",
    "            Transaction_Count int,\n",
    "            Percentage double\n",
    "            )''')\n",
    "\n",
    "for index,row in df_agg_user.iterrows():\n",
    "    query = \"INSERT INTO agg_user VALUES (%s,%s,%s,%s,%s,%s)\"\n",
    "    cursor.execute(query, tuple(row))\n",
    "    mysql_connection.commit()"
   ]
  },
  {
   "cell_type": "code",
   "execution_count": 24,
   "metadata": {},
   "outputs": [],
   "source": [
    "#4.map_insur\n",
    "cursor.execute('''create table if not exists  map_insur (\n",
    "            State varchar(100),\n",
    "            Year int,\n",
    "            Quarter int,\n",
    "            District varchar(100),\n",
    "            Transaction_Count int,\n",
    "            Transaction_Amount double,\n",
    "            Latitude float,\n",
    "            Longitude float\n",
    "            )''')\n",
    "\n",
    "for index,row in df_map_insur.iterrows():\n",
    "    query = \"INSERT INTO map_insur VALUES (%s,%s,%s,%s,%s,%s,%s,%s)\"\n",
    "    cursor.execute(query, tuple(row))\n",
    "    mysql_connection.commit()"
   ]
  },
  {
   "cell_type": "code",
   "execution_count": 25,
   "metadata": {},
   "outputs": [],
   "source": [
    "#5.map_trans\n",
    "cursor.execute('''create table if not exists map_trans (\n",
    "            State varchar(100),\n",
    "            Year int,\n",
    "            Quarter int,\n",
    "            District varchar(100),\n",
    "            Transaction_Count int,\n",
    "            Transaction_Amount double,\n",
    "            Latitude float,\n",
    "            Longitude float\n",
    "            )''')\n",
    "\n",
    "for index,row in df_map_trans.iterrows():\n",
    "    query = \"INSERT INTO map_trans VALUES (%s,%s,%s,%s,%s,%s,%s,%s)\"\n",
    "    cursor.execute(query, tuple(row))\n",
    "    mysql_connection.commit()"
   ]
  },
  {
   "cell_type": "code",
   "execution_count": 26,
   "metadata": {},
   "outputs": [],
   "source": [
    "#6.map_user\n",
    "cursor.execute('''create table if not exists map_user (\n",
    "            State varchar(100), \n",
    "            Year int, \n",
    "            Quarter int, \n",
    "            District varchar(100), \n",
    "            Registered_user int, \n",
    "            App_opens int,\n",
    "            Latitude float,\n",
    "            Longitude float\n",
    "            )''')\n",
    "for index,row in df_map_user.iterrows():\n",
    "    query = \"INSERT INTO map_user VALUES (%s,%s,%s,%s,%s,%s,%s,%s)\"\n",
    "    cursor.execute(query, tuple(row))\n",
    "    mysql_connection.commit()"
   ]
  },
  {
   "cell_type": "code",
   "execution_count": 27,
   "metadata": {},
   "outputs": [],
   "source": [
    "#7.top_insur_dist\n",
    "cursor.execute('''create table if not exists top_insur_dist (\n",
    "            State varchar(100), \n",
    "            Year int,\n",
    "            Quarter int,\n",
    "            District varchar(100), \n",
    "            Transaction_count int,\n",
    "            Transaction_amount double,\n",
    "            Latitude float,\n",
    "            Longitude float\n",
    "            )''')\n",
    "for index,row in df_top_insur_dist.iterrows():\n",
    "    query = \"INSERT INTO top_insur_dist VALUES (%s,%s,%s,%s,%s,%s,%s,%s)\"\n",
    "    cursor.execute(query, tuple(row))\n",
    "    mysql_connection.commit()"
   ]
  },
  {
   "cell_type": "code",
   "execution_count": 28,
   "metadata": {},
   "outputs": [],
   "source": [
    "#8.top_insur_pin\n",
    "cursor.execute('''create table if not exists top_insur_pin (\n",
    "            State varchar(100),\n",
    "            Year int, \n",
    "            Quarter int, \n",
    "            Pincode int, \n",
    "            Transaction_count int,\n",
    "            Transaction_amount double\n",
    "            )''')\n",
    "for index,row in df_top_insur_pin.iterrows():\n",
    "    query = \"INSERT INTO top_insur_pin VALUES (%s,%s,%s,%s,%s,%s)\"\n",
    "    cursor.execute(query, tuple(row))\n",
    "    mysql_connection.commit()"
   ]
  },
  {
   "cell_type": "code",
   "execution_count": 29,
   "metadata": {},
   "outputs": [],
   "source": [
    "#9.top_trans_dist\n",
    "cursor.execute('''create table if not exists top_trans_dist (\n",
    "            State varchar(100), \n",
    "            Year int,\n",
    "            Quarter int,\n",
    "            District varchar(100), \n",
    "            Transaction_count int,\n",
    "            Transaction_amount double,\n",
    "            Latitude float,\n",
    "            Longitude float\n",
    "            )''')\n",
    "for index,row in df_top_trans_dist.iterrows():\n",
    "    query = \"INSERT INTO top_trans_dist VALUES (%s,%s,%s,%s,%s,%s,%s,%s)\"\n",
    "    cursor.execute(query, tuple(row))\n",
    "    mysql_connection.commit()"
   ]
  },
  {
   "cell_type": "code",
   "execution_count": 30,
   "metadata": {},
   "outputs": [],
   "source": [
    "#10.top_trans_pin\n",
    "cursor.execute('''create table if not exists top_trans_pin (\n",
    "            State varchar(100),\n",
    "            Year int, \n",
    "            Quarter int, \n",
    "            Pincode int, \n",
    "            Transaction_count int,\n",
    "            Transaction_amount double\n",
    "            )''')\n",
    "for index,row in df_top_trans_pin.iterrows():\n",
    "    query = \"INSERT INTO top_trans_pin VALUES (%s,%s,%s,%s,%s,%s)\"\n",
    "    cursor.execute(query, tuple(row))\n",
    "    mysql_connection.commit()"
   ]
  },
  {
   "cell_type": "code",
   "execution_count": 31,
   "metadata": {},
   "outputs": [],
   "source": [
    "#11.top_user_dist\n",
    "cursor.execute('''create table if not exists top_user_dist (\n",
    "            State varchar(100), \n",
    "            Year int, \n",
    "            Quarter int,\n",
    "            District varchar(100),\n",
    "            Registered_users int,\n",
    "            Latitude float,\n",
    "            Longitude float\n",
    "            )''')\n",
    "for index,row in df_top_user_dist.iterrows():\n",
    "    query = \"INSERT INTO top_user_dist VALUES (%s,%s,%s,%s,%s,%s,%s)\"\n",
    "    cursor.execute(query, tuple(row))\n",
    "    mysql_connection.commit()"
   ]
  },
  {
   "cell_type": "code",
   "execution_count": 32,
   "metadata": {},
   "outputs": [],
   "source": [
    "#12.top_user_pin\n",
    "cursor.execute('''create table if not exists top_user_pin (\n",
    "            State varchar(100),\n",
    "            Year int, \n",
    "            Quarter int, \n",
    "            Pincode int, \n",
    "            Registered_users int\n",
    "            )''')\n",
    "for index,row in df_top_user_pin.iterrows():\n",
    "    query = \"INSERT INTO top_user_pin VALUES (%s,%s,%s,%s,%s)\"\n",
    "    cursor.execute(query, tuple(row))\n",
    "    mysql_connection.commit()"
   ]
  },
  {
   "cell_type": "code",
   "execution_count": 33,
   "metadata": {},
   "outputs": [],
   "source": [
    "dfs = {\n",
    "    'agg_trans': df_agg_trans,\n",
    "    'agg_user': df_agg_user,\n",
    "    'map_trans': df_map_trans,\n",
    "    'map_user': df_map_user,\n",
    "    'top_trans_dist': df_top_trans_dist,\n",
    "    'top_trans_pin': df_top_trans_pin,\n",
    "    'top_user_dist': df_top_user_dist,\n",
    "    'top_user_pin': df_top_user_pin\n",
    "}"
   ]
  },
  {
   "cell_type": "code",
   "execution_count": 34,
   "metadata": {},
   "outputs": [
    {
     "data": {
      "text/plain": [
       "True"
      ]
     },
     "execution_count": 34,
     "metadata": {},
     "output_type": "execute_result"
    }
   ],
   "source": [
    "cursor.close()"
   ]
  },
  {
   "cell_type": "code",
   "execution_count": null,
   "metadata": {},
   "outputs": [],
   "source": [
    "cursor.execute(\"SHOW TABLES\")\n",
    "tables = cursor.fetchall()\n",
    "tables"
   ]
  },
  {
   "cell_type": "code",
   "execution_count": null,
   "metadata": {},
   "outputs": [],
   "source": [
    "pd.read_csv(\"C:\\Users\\abina\\OneDrive\\Desktop\\phonepe\\poptable.csv\""
   ]
  },
  {
   "cell_type": "code",
   "execution_count": null,
   "metadata": {},
   "outputs": [],
   "source": []
  },
  {
   "cell_type": "code",
   "execution_count": null,
   "metadata": {},
   "outputs": [],
   "source": []
  }
 ],
 "metadata": {
  "kernelspec": {
   "display_name": ".venv",
   "language": "python",
   "name": "python3"
  },
  "language_info": {
   "codemirror_mode": {
    "name": "ipython",
    "version": 3
   },
   "file_extension": ".py",
   "mimetype": "text/x-python",
   "name": "python",
   "nbconvert_exporter": "python",
   "pygments_lexer": "ipython3",
   "version": "3.11.5"
  }
 },
 "nbformat": 4,
 "nbformat_minor": 2
}
